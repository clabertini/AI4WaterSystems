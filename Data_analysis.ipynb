{
 "cells": [
  {
   "cell_type": "code",
   "execution_count": 1,
   "id": "22c3c805-0e49-4308-b751-07eebc93e71c",
   "metadata": {},
   "outputs": [],
   "source": [
    "# TITLE"
   ]
  },
  {
   "cell_type": "code",
   "execution_count": null,
   "id": "3715820c-30e7-4fbe-93e0-fbc5e29da73a",
   "metadata": {},
   "outputs": [],
   "source": [
    "import pandas as pd\n",
    "import matplotlib.pyplot as plt\n",
    "import os"
   ]
  },
  {
   "cell_type": "code",
   "execution_count": null,
   "id": "41ee17d2-0daa-43f4-b59a-74f740f110dd",
   "metadata": {},
   "outputs": [],
   "source": [
    "'''0) LOAD THE DATA'''\n",
    "\n",
    "# Define file path and check environment\n",
    "if 'google.colab' in str(get_ipython()):\n",
    "    from google.colab import drive\n",
    "    drive.mount('/content/drive')\n",
    "    base_path = '/content/drive/My Drive/'\n",
    "else:\n",
    "    base_path = os.getcwd()  # Use current directory in Jupyter Notebook\n",
    "\n",
    "# Ensure file exists before reading\n",
    "file_name = 'Sieve-orig.xlsx'\n",
    "file_path = os.path.join(base_path, file_name)\n",
    "\n",
    "if not os.path.exists(file_path):\n",
    "    raise FileNotFoundError(f\"File not found: {file_path}\")\n",
    "\n",
    "# First load the file with the data from Sieve\n",
    "df = pd.read_excel(file_path)\n"
   ]
  },
  {
   "cell_type": "code",
   "execution_count": null,
   "id": "7050c26d-134e-4420-b8b3-4ae9e13c4cd2",
   "metadata": {},
   "outputs": [],
   "source": [
    "'''1) PLOT THE DATA'''\n",
    "fig, ax1 = plt.subplots(figsize=(10, 5))\n",
    "\n",
    "# Plot discharge on the primary y-axis\n",
    "ax1.plot(df['Date'], df['Qt'], color='steelblue', label='Discharge (m³/s)')\n",
    "ax1.set_xlabel('Time (hours)')\n",
    "ax1.set_ylabel('Discharge (m³/s)')\n",
    "ax1.tick_params(axis='y')\n",
    "ax1.set_ylim(0, 1000)  \n",
    "ax1.xaxis.set_major_formatter(plt.matplotlib.dates.DateFormatter('%Y-%m-%d'))\n",
    "ax1.xaxis.set_major_locator(plt.matplotlib.dates.DayLocator(interval=10))\n",
    "plt.xticks(rotation=45)\n",
    "ax1.set_xlim(df['Date'].loc[0], df['Date'].loc[len(df)-1])  # Set x-axis limits\n",
    "\n",
    "# Create secondary y-axis for rainfall\n",
    "ax2 = ax1.twinx()\n",
    "ax2.bar(df['Date'], df['REt'], color='lightsteelblue',alpha=0.8, label='Rainfall (mm)')\n",
    "ax2.set_ylabel('Rainfall (mm)')\n",
    "ax2.tick_params(axis='y')\n",
    "ax2.set_ylim(0, 20)  # \n",
    "ax2.invert_yaxis()  # Invert the secondary y-axis\n",
    "\n",
    "# Show the plot\n",
    "fig.tight_layout()\n",
    "plt.title('Hourly Discharge and Rainfall')\n",
    "plt.show()\n",
    "plot_path = os.path.join(base_path, 'Rainfall-Discharge_Plot.png')\n",
    "plt.savefig(plot_path, dpi=600, format='png')"
   ]
  },
  {
   "cell_type": "code",
   "execution_count": null,
   "id": "63fb166e-768c-47b2-93ba-0d25d837fb43",
   "metadata": {},
   "outputs": [],
   "source": [
    "''2) CROSS-CORRELATION: CORRELATION BETWEEN TARGET (Qt+1) AND RAINFALL WITH DIFFERENT TIME LAGS'''\n",
    "\n",
    "\n",
    "# Compute correlation between discharge and past rainfall steps\n",
    "correlations = {}\n",
    "for lag in range(1, 10):  # 10 steps back\n",
    "    df[f'REt_lag{lag}'] = df['REt'].shift(lag)\n",
    "    correlations[f'{lag}'] = df[['Qt', f'REt_lag{lag}']].corr().iloc[0, 1]\n",
    "\n",
    "# Print correlation results\n",
    "for lag, corr in correlations.items():\n",
    "    print(f'Correlation with {lag}: {corr:.3f}')\n"
   ]
  },
  {
   "cell_type": "code",
   "execution_count": null,
   "id": "fee5bc99-092e-449e-b36d-befd4a65f7bd",
   "metadata": {},
   "outputs": [],
   "source": [
    "# Plot correlation over different lags\n",
    "fig, ax = plt.subplots(figsize=(8, 4))\n",
    "ax.plot(list(correlations.keys()), list(correlations.values()), marker='o', linestyle='-', color='lightseagreen')\n",
    "ax.set_xlabel('Lag (hours)')\n",
    "ax.set_ylabel('Correlation coefficient')\n",
    "ax.set_ylim(-1,1)\n",
    "ax.set_title('Correlation between Discharge and Lagged Rainfall')\n",
    "ax.grid(True)\n",
    "plt.show()\n",
    "#plt.savefig(path+'Rainfall-Discharge_Correlation.png', dpi=600, format='png')  \n",
    "correlation_plot_path = os.path.join(base_path, 'Rainfall-Discharge_Correlation.png')\n",
    "plt.savefig(correlation_plot_path, dpi=600, format='png')\n"
   ]
  },
  {
   "cell_type": "code",
   "execution_count": null,
   "id": "5aec257e-03ed-47af-af74-5337af895ffc",
   "metadata": {},
   "outputs": [],
   "source": [
    "'''3) AUTO-CORRELATION: CORRELATION BETWEEN TARGET (Qt+1) AND PAST DISCHARGE'''\n",
    "qcorrelations = {}\n",
    "for lag in range(1, 15):  # 10 steps back\n",
    "    df[f'Qt_lag{lag}'] = df['Qt'].shift(lag)\n",
    "    qcorrelations[f'{lag}'] = df[['Qt', f'Qt_lag{lag}']].corr().iloc[0, 1]\n",
    "\n",
    "# Print correlation results\n",
    "for lag, corr in qcorrelations.items():\n",
    "    print(f'Correlation with {lag}: {corr:.3f}')"
   ]
  },
  {
   "cell_type": "code",
   "execution_count": null,
   "id": "1787d88f-f41d-4660-91db-c098347a15bc",
   "metadata": {},
   "outputs": [],
   "source": [
    "# Plot correlation over different lags\n",
    "fig, ax = plt.subplots(figsize=(8, 4))\n",
    "ax.plot(list(qcorrelations.keys()), list(qcorrelations.values()), marker='o', linestyle='-', color='goldenrod')\n",
    "ax.set_xlabel('Lag (hours)')\n",
    "ax.set_ylabel('Correlation coefficient')\n",
    "ax.set_ylim(-1,1)\n",
    "ax.set_xlim(0,13)\n",
    "ax.set_title('Discharge Autocorrelation')\n",
    "ax.grid(True)\n",
    "plt.show()\n",
    "#plt.savefig(path+'Discharge_Autocorrelation.png', dpi=600, format='png')  \n",
    "autocorr_plot_path = os.path.join(base_path, 'Discharge_Autocorrelation.png')\n",
    "plt.savefig(autocorr_plot_path, dpi=600, format='png')"
   ]
  }
 ],
 "metadata": {
  "kernelspec": {
   "display_name": "Python 3 (ipykernel)",
   "language": "python",
   "name": "python3"
  },
  "language_info": {
   "codemirror_mode": {
    "name": "ipython",
    "version": 3
   },
   "file_extension": ".py",
   "mimetype": "text/x-python",
   "name": "python",
   "nbconvert_exporter": "python",
   "pygments_lexer": "ipython3",
   "version": "3.11.9"
  }
 },
 "nbformat": 4,
 "nbformat_minor": 5
}
